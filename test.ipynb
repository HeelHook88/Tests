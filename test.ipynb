{
 "cells": [
  {
   "cell_type": "code",
   "execution_count": 1,
   "metadata": {},
   "outputs": [],
   "source": [
    "import pandas as pd\n",
    "import warnings\n",
    "warnings.filterwarnings(\"ignore\")\n",
    "\n",
    "from matplotlib import pyplot as plt\n",
    "import seaborn as sns"
   ]
  },
  {
   "cell_type": "code",
   "execution_count": 2,
   "metadata": {},
   "outputs": [],
   "source": [
    "df= pd.read_csv('dataset.csv')"
   ]
  },
  {
   "cell_type": "markdown",
   "metadata": {},
   "source": [
    "### 1.\tПолучите DataFrame из исходных данных и отфильтруйте ошибки, если они есть"
   ]
  },
  {
   "cell_type": "code",
   "execution_count": 3,
   "metadata": {},
   "outputs": [
    {
     "name": "stdout",
     "output_type": "stream",
     "text": [
      "<class 'pandas.core.frame.DataFrame'>\n",
      "RangeIndex: 727 entries, 0 to 726\n",
      "Data columns (total 3 columns):\n",
      " #   Column      Non-Null Count  Dtype \n",
      "---  ------      --------------  ----- \n",
      " 0   event_date  727 non-null    object\n",
      " 1   ip          727 non-null    object\n",
      " 2   email       727 non-null    object\n",
      "dtypes: object(3)\n",
      "memory usage: 17.2+ KB\n"
     ]
    }
   ],
   "source": [
    "df.info()"
   ]
  },
  {
   "cell_type": "code",
   "execution_count": 4,
   "metadata": {},
   "outputs": [],
   "source": [
    "# Замена значения 2020-11-31 23:54:44 на 2020-12-1 23:54:44 так как в ноябре 2020 30 дней\n",
    "\n",
    "df.loc[df['event_date'] == '2020-11-31 23:54:44', 'event_date'] = '2020-12-1 23:54:44'"
   ]
  },
  {
   "cell_type": "code",
   "execution_count": 5,
   "metadata": {},
   "outputs": [],
   "source": [
    "##### замена типа данных в столбце event_date на datetime64 для обработки дат\n",
    "\n",
    "df['event_date'] = df['event_date'].astype('datetime64') "
   ]
  },
  {
   "cell_type": "markdown",
   "metadata": {},
   "source": [
    "### 2.\tПолучите DataFrame содержащий все уникальные email адреса"
   ]
  },
  {
   "cell_type": "code",
   "execution_count": 6,
   "metadata": {},
   "outputs": [
    {
     "data": {
      "text/plain": [
       "ykhofekhac@local134.org         34\n",
       "unafyg@charter.com              16\n",
       "luhamubyr@ckcins.com            16\n",
       "lonolezh@students.rowan.edu     15\n",
       "ofomepycha@signatureconc.com    15\n",
       "umonezhopu@cjuhsd.net           13\n",
       "ikynyv@gmi.com                  13\n",
       "upezhif@yahoo.com               13\n",
       "opazumudo@sompaving.com         11\n",
       "axyxili@nafi.com                11\n",
       "Name: email, dtype: int64"
      ]
     },
     "execution_count": 6,
     "metadata": {},
     "output_type": "execute_result"
    }
   ],
   "source": [
    "unique_emails = df['email'].value_counts()\n",
    "unique_emails[:10]"
   ]
  },
  {
   "cell_type": "markdown",
   "metadata": {},
   "source": [
    "### 3.\tОкруглите столбец event_date до часа"
   ]
  },
  {
   "cell_type": "code",
   "execution_count": 7,
   "metadata": {},
   "outputs": [
    {
     "data": {
      "text/plain": [
       "0   2020-11-29 00:00:00\n",
       "1   2020-11-30 00:00:00\n",
       "2   2020-11-30 13:00:00\n",
       "3   2020-11-30 09:00:00\n",
       "4   2020-11-29 08:00:00\n",
       "Name: event_date, dtype: datetime64[ns]"
      ]
     },
     "execution_count": 7,
     "metadata": {},
     "output_type": "execute_result"
    }
   ],
   "source": [
    "df.timestamp = pd.to_datetime(df['event_date'])\n",
    "\n",
    "\n",
    "df.timestamp.dt.round('H').head()"
   ]
  },
  {
   "cell_type": "markdown",
   "metadata": {},
   "source": [
    "### 4.\tСгруппируйте данные по дням и получите отдельный DataFrame сколько всего было переходов по дням и со скольки уникальных адресов были эти переходы"
   ]
  },
  {
   "cell_type": "code",
   "execution_count": 8,
   "metadata": {},
   "outputs": [
    {
     "data": {
      "text/html": [
       "<div>\n",
       "<style scoped>\n",
       "    .dataframe tbody tr th:only-of-type {\n",
       "        vertical-align: middle;\n",
       "    }\n",
       "\n",
       "    .dataframe tbody tr th {\n",
       "        vertical-align: top;\n",
       "    }\n",
       "\n",
       "    .dataframe thead th {\n",
       "        text-align: right;\n",
       "    }\n",
       "</style>\n",
       "<table border=\"1\" class=\"dataframe\">\n",
       "  <thead>\n",
       "    <tr style=\"text-align: right;\">\n",
       "      <th></th>\n",
       "      <th>ip_count</th>\n",
       "      <th>ip_unique</th>\n",
       "    </tr>\n",
       "    <tr>\n",
       "      <th>event_date</th>\n",
       "      <th></th>\n",
       "      <th></th>\n",
       "    </tr>\n",
       "  </thead>\n",
       "  <tbody>\n",
       "    <tr>\n",
       "      <th>2020-11-29</th>\n",
       "      <td>207</td>\n",
       "      <td>125</td>\n",
       "    </tr>\n",
       "    <tr>\n",
       "      <th>2020-11-30</th>\n",
       "      <td>362</td>\n",
       "      <td>221</td>\n",
       "    </tr>\n",
       "    <tr>\n",
       "      <th>2020-12-01</th>\n",
       "      <td>157</td>\n",
       "      <td>97</td>\n",
       "    </tr>\n",
       "    <tr>\n",
       "      <th>2020-12-02</th>\n",
       "      <td>1</td>\n",
       "      <td>1</td>\n",
       "    </tr>\n",
       "  </tbody>\n",
       "</table>\n",
       "</div>"
      ],
      "text/plain": [
       "            ip_count  ip_unique\n",
       "event_date                     \n",
       "2020-11-29       207        125\n",
       "2020-11-30       362        221\n",
       "2020-12-01       157         97\n",
       "2020-12-02         1          1"
      ]
     },
     "execution_count": 8,
     "metadata": {},
     "output_type": "execute_result"
    }
   ],
   "source": [
    "df.groupby([df.timestamp.dt.round('D')], as_index=True).agg(ip_count=pd.NamedAgg(column='ip', aggfunc='count'),\n",
    "                                                            ip_unique=pd.NamedAgg(column='ip', aggfunc='nunique')\n",
    "                                                            )"
   ]
  },
  {
   "cell_type": "markdown",
   "metadata": {},
   "source": [
    "### 5.\tПроверьте, есть ли дубликаты в данных и, если есть, выведите их"
   ]
  },
  {
   "cell_type": "code",
   "execution_count": 9,
   "metadata": {},
   "outputs": [
    {
     "data": {
      "text/html": [
       "<div>\n",
       "<style scoped>\n",
       "    .dataframe tbody tr th:only-of-type {\n",
       "        vertical-align: middle;\n",
       "    }\n",
       "\n",
       "    .dataframe tbody tr th {\n",
       "        vertical-align: top;\n",
       "    }\n",
       "\n",
       "    .dataframe thead th {\n",
       "        text-align: right;\n",
       "    }\n",
       "</style>\n",
       "<table border=\"1\" class=\"dataframe\">\n",
       "  <thead>\n",
       "    <tr style=\"text-align: right;\">\n",
       "      <th></th>\n",
       "      <th>event_date</th>\n",
       "      <th>ip</th>\n",
       "      <th>email</th>\n",
       "    </tr>\n",
       "  </thead>\n",
       "  <tbody>\n",
       "    <tr>\n",
       "      <th>690</th>\n",
       "      <td>2020-11-29 01:53:59</td>\n",
       "      <td>174.193.134.75</td>\n",
       "      <td>izagevum@contractor.net</td>\n",
       "    </tr>\n",
       "    <tr>\n",
       "      <th>712</th>\n",
       "      <td>2020-11-29 22:10:24</td>\n",
       "      <td>40.94.33.17</td>\n",
       "      <td>ykhofekhac@local134.org</td>\n",
       "    </tr>\n",
       "    <tr>\n",
       "      <th>714</th>\n",
       "      <td>2020-11-29 22:10:24</td>\n",
       "      <td>40.94.33.8</td>\n",
       "      <td>ykhofekhac@local134.org</td>\n",
       "    </tr>\n",
       "    <tr>\n",
       "      <th>718</th>\n",
       "      <td>2020-11-29 05:58:58</td>\n",
       "      <td>68.205.86.12</td>\n",
       "      <td>uzyzhone@yahoo.com</td>\n",
       "    </tr>\n",
       "    <tr>\n",
       "      <th>720</th>\n",
       "      <td>2020-11-29 20:00:43</td>\n",
       "      <td>40.94.36.64</td>\n",
       "      <td>ykhofekhac@local134.org</td>\n",
       "    </tr>\n",
       "  </tbody>\n",
       "</table>\n",
       "</div>"
      ],
      "text/plain": [
       "             event_date              ip                    email\n",
       "690 2020-11-29 01:53:59  174.193.134.75  izagevum@contractor.net\n",
       "712 2020-11-29 22:10:24     40.94.33.17  ykhofekhac@local134.org\n",
       "714 2020-11-29 22:10:24      40.94.33.8  ykhofekhac@local134.org\n",
       "718 2020-11-29 05:58:58    68.205.86.12       uzyzhone@yahoo.com\n",
       "720 2020-11-29 20:00:43     40.94.36.64  ykhofekhac@local134.org"
      ]
     },
     "execution_count": 9,
     "metadata": {},
     "output_type": "execute_result"
    }
   ],
   "source": [
    "df[df.duplicated(keep=False)].tail()"
   ]
  },
  {
   "cell_type": "markdown",
   "metadata": {},
   "source": [
    "### 6.\tПолучите в отдельный столбец название домена из email адреса и получите все переходы с домена yahoo.com"
   ]
  },
  {
   "cell_type": "code",
   "execution_count": 10,
   "metadata": {},
   "outputs": [],
   "source": [
    "df['domens']= df['email'].str.extract('@([\\w.]+)')"
   ]
  },
  {
   "cell_type": "code",
   "execution_count": 11,
   "metadata": {},
   "outputs": [
    {
     "data": {
      "text/plain": [
       "yahoo.com       324\n",
       "aol.com          66\n",
       "comcast.net      45\n",
       "csu.edu          34\n",
       "local134.org     34\n",
       "Name: domens, dtype: int64"
      ]
     },
     "execution_count": 11,
     "metadata": {},
     "output_type": "execute_result"
    }
   ],
   "source": [
    "df['domens'].value_counts().head()"
   ]
  },
  {
   "cell_type": "code",
   "execution_count": 12,
   "metadata": {},
   "outputs": [
    {
     "data": {
      "text/plain": [
       "324"
      ]
     },
     "execution_count": 12,
     "metadata": {},
     "output_type": "execute_result"
    }
   ],
   "source": [
    "df.loc[df['domens'] == 'yahoo.com','domens'].count()"
   ]
  },
  {
   "cell_type": "markdown",
   "metadata": {},
   "source": [
    "### 7. Отфильтруйте данные по вхождению IP адреса в сеть 209.222.82.0/24"
   ]
  },
  {
   "cell_type": "code",
   "execution_count": 13,
   "metadata": {},
   "outputs": [
    {
     "data": {
      "text/html": [
       "<div>\n",
       "<style scoped>\n",
       "    .dataframe tbody tr th:only-of-type {\n",
       "        vertical-align: middle;\n",
       "    }\n",
       "\n",
       "    .dataframe tbody tr th {\n",
       "        vertical-align: top;\n",
       "    }\n",
       "\n",
       "    .dataframe thead th {\n",
       "        text-align: right;\n",
       "    }\n",
       "</style>\n",
       "<table border=\"1\" class=\"dataframe\">\n",
       "  <thead>\n",
       "    <tr style=\"text-align: right;\">\n",
       "      <th></th>\n",
       "      <th>event_date</th>\n",
       "      <th>ip</th>\n",
       "      <th>email</th>\n",
       "      <th>domens</th>\n",
       "      <th>209.222.82_group</th>\n",
       "    </tr>\n",
       "  </thead>\n",
       "  <tbody>\n",
       "    <tr>\n",
       "      <th>0</th>\n",
       "      <td>2020-11-29 00:13:36</td>\n",
       "      <td>209.222.82.228</td>\n",
       "      <td>chiryxe@guyroofing.com</td>\n",
       "      <td>guyroofing.com</td>\n",
       "      <td>209.222.82.228</td>\n",
       "    </tr>\n",
       "    <tr>\n",
       "      <th>234</th>\n",
       "      <td>2020-11-30 04:39:56</td>\n",
       "      <td>209.222.82.228</td>\n",
       "      <td>lygopiz@csu.edu</td>\n",
       "      <td>csu.edu</td>\n",
       "      <td>209.222.82.228</td>\n",
       "    </tr>\n",
       "    <tr>\n",
       "      <th>267</th>\n",
       "      <td>2020-11-29 07:44:31</td>\n",
       "      <td>209.222.82.228</td>\n",
       "      <td>emysebefu@rrsi.org</td>\n",
       "      <td>rrsi.org</td>\n",
       "      <td>209.222.82.228</td>\n",
       "    </tr>\n",
       "    <tr>\n",
       "      <th>184</th>\n",
       "      <td>2020-11-29 00:00:35</td>\n",
       "      <td>209.222.82.228</td>\n",
       "      <td>zhypowy@leonschools.net</td>\n",
       "      <td>leonschools.net</td>\n",
       "      <td>209.222.82.228</td>\n",
       "    </tr>\n",
       "    <tr>\n",
       "      <th>281</th>\n",
       "      <td>2020-11-30 13:16:44</td>\n",
       "      <td>209.222.82.228</td>\n",
       "      <td>conazhachu@missouridelta.com</td>\n",
       "      <td>missouridelta.com</td>\n",
       "      <td>209.222.82.228</td>\n",
       "    </tr>\n",
       "    <tr>\n",
       "      <th>296</th>\n",
       "      <td>2020-11-29 01:43:38</td>\n",
       "      <td>209.222.82.228</td>\n",
       "      <td>emysebefu@rrsi.org</td>\n",
       "      <td>rrsi.org</td>\n",
       "      <td>209.222.82.228</td>\n",
       "    </tr>\n",
       "    <tr>\n",
       "      <th>302</th>\n",
       "      <td>2020-11-30 00:26:26</td>\n",
       "      <td>209.222.82.228</td>\n",
       "      <td>ofomepycha@signatureconc.com</td>\n",
       "      <td>signatureconc.com</td>\n",
       "      <td>209.222.82.228</td>\n",
       "    </tr>\n",
       "    <tr>\n",
       "      <th>325</th>\n",
       "      <td>2020-11-29 00:00:35</td>\n",
       "      <td>209.222.82.228</td>\n",
       "      <td>zhypowy@leonschools.net</td>\n",
       "      <td>leonschools.net</td>\n",
       "      <td>209.222.82.228</td>\n",
       "    </tr>\n",
       "    <tr>\n",
       "      <th>422</th>\n",
       "      <td>2020-11-29 00:00:35</td>\n",
       "      <td>209.222.82.228</td>\n",
       "      <td>zhypowy@leonschools.net</td>\n",
       "      <td>leonschools.net</td>\n",
       "      <td>209.222.82.228</td>\n",
       "    </tr>\n",
       "    <tr>\n",
       "      <th>500</th>\n",
       "      <td>2020-11-30 00:05:23</td>\n",
       "      <td>209.222.82.228</td>\n",
       "      <td>ofomepycha@signatureconc.com</td>\n",
       "      <td>signatureconc.com</td>\n",
       "      <td>209.222.82.228</td>\n",
       "    </tr>\n",
       "  </tbody>\n",
       "</table>\n",
       "</div>"
      ],
      "text/plain": [
       "             event_date              ip                         email  \\\n",
       "0   2020-11-29 00:13:36  209.222.82.228        chiryxe@guyroofing.com   \n",
       "234 2020-11-30 04:39:56  209.222.82.228               lygopiz@csu.edu   \n",
       "267 2020-11-29 07:44:31  209.222.82.228            emysebefu@rrsi.org   \n",
       "184 2020-11-29 00:00:35  209.222.82.228       zhypowy@leonschools.net   \n",
       "281 2020-11-30 13:16:44  209.222.82.228  conazhachu@missouridelta.com   \n",
       "296 2020-11-29 01:43:38  209.222.82.228            emysebefu@rrsi.org   \n",
       "302 2020-11-30 00:26:26  209.222.82.228  ofomepycha@signatureconc.com   \n",
       "325 2020-11-29 00:00:35  209.222.82.228       zhypowy@leonschools.net   \n",
       "422 2020-11-29 00:00:35  209.222.82.228       zhypowy@leonschools.net   \n",
       "500 2020-11-30 00:05:23  209.222.82.228  ofomepycha@signatureconc.com   \n",
       "\n",
       "                domens 209.222.82_group  \n",
       "0       guyroofing.com   209.222.82.228  \n",
       "234            csu.edu   209.222.82.228  \n",
       "267           rrsi.org   209.222.82.228  \n",
       "184    leonschools.net   209.222.82.228  \n",
       "281  missouridelta.com   209.222.82.228  \n",
       "296           rrsi.org   209.222.82.228  \n",
       "302  signatureconc.com   209.222.82.228  \n",
       "325    leonschools.net   209.222.82.228  \n",
       "422    leonschools.net   209.222.82.228  \n",
       "500  signatureconc.com   209.222.82.228  "
      ]
     },
     "execution_count": 13,
     "metadata": {},
     "output_type": "execute_result"
    }
   ],
   "source": [
    "df['209.222.82_group'] = df['ip'].str.extract('(209\\.222\\.82\\.[0-9]{1,4})')\n",
    "df.sort_values(by='209.222.82_group').head(10)"
   ]
  },
  {
   "cell_type": "markdown",
   "metadata": {},
   "source": [
    "### 8 Попробуйте найти аномалии в данных по которым можно определить, что часть этих переходов исходят не от людей, а от ботов"
   ]
  },
  {
   "cell_type": "code",
   "execution_count": 14,
   "metadata": {},
   "outputs": [
    {
     "data": {
      "text/plain": [
       "<AxesSubplot:xlabel='count', ylabel='domens'>"
      ]
     },
     "execution_count": 14,
     "metadata": {},
     "output_type": "execute_result"
    },
    {
     "data": {
      "image/png": "[encoded data removed]",
      "text/plain": [
       "<Figure size 720x720 with 1 Axes>"
      ]
     },
     "metadata": {
      "needs_background": "light"
     },
     "output_type": "display_data"
    }
   ],
   "source": [
    "plt.rcParams['figure.figsize']=(10,10)\n",
    "\n",
    "sns.countplot(y='domens', data=df)"
   ]
  },
  {
   "cell_type": "code",
   "execution_count": 15,
   "metadata": {},
   "outputs": [
    {
     "data": {
      "text/html": [
       "<div>\n",
       "<style scoped>\n",
       "    .dataframe tbody tr th:only-of-type {\n",
       "        vertical-align: middle;\n",
       "    }\n",
       "\n",
       "    .dataframe tbody tr th {\n",
       "        vertical-align: top;\n",
       "    }\n",
       "\n",
       "    .dataframe thead th {\n",
       "        text-align: right;\n",
       "    }\n",
       "</style>\n",
       "<table border=\"1\" class=\"dataframe\">\n",
       "  <thead>\n",
       "    <tr style=\"text-align: right;\">\n",
       "      <th></th>\n",
       "      <th></th>\n",
       "      <th>ip_unique</th>\n",
       "      <th>emai_count</th>\n",
       "      <th>emai_unique</th>\n",
       "      <th>ip_group_count</th>\n",
       "    </tr>\n",
       "    <tr>\n",
       "      <th>event_date</th>\n",
       "      <th>domens</th>\n",
       "      <th></th>\n",
       "      <th></th>\n",
       "      <th></th>\n",
       "      <th></th>\n",
       "    </tr>\n",
       "  </thead>\n",
       "  <tbody>\n",
       "    <tr>\n",
       "      <th rowspan=\"25\" valign=\"top\">2020-11-29</th>\n",
       "      <th>aol.com</th>\n",
       "      <td>9</td>\n",
       "      <td>11</td>\n",
       "      <td>8</td>\n",
       "      <td>0</td>\n",
       "    </tr>\n",
       "    <tr>\n",
       "      <th>charter.com</th>\n",
       "      <td>9</td>\n",
       "      <td>21</td>\n",
       "      <td>2</td>\n",
       "      <td>0</td>\n",
       "    </tr>\n",
       "    <tr>\n",
       "      <th>cjuhsd.net</th>\n",
       "      <td>1</td>\n",
       "      <td>1</td>\n",
       "      <td>1</td>\n",
       "      <td>1</td>\n",
       "    </tr>\n",
       "    <tr>\n",
       "      <th>comcast.net</th>\n",
       "      <td>6</td>\n",
       "      <td>17</td>\n",
       "      <td>6</td>\n",
       "      <td>0</td>\n",
       "    </tr>\n",
       "    <tr>\n",
       "      <th>contractor.net</th>\n",
       "      <td>1</td>\n",
       "      <td>2</td>\n",
       "      <td>1</td>\n",
       "      <td>0</td>\n",
       "    </tr>\n",
       "    <tr>\n",
       "      <th>csu.edu</th>\n",
       "      <td>3</td>\n",
       "      <td>6</td>\n",
       "      <td>2</td>\n",
       "      <td>6</td>\n",
       "    </tr>\n",
       "    <tr>\n",
       "      <th>email.uscupstate.edu</th>\n",
       "      <td>6</td>\n",
       "      <td>8</td>\n",
       "      <td>1</td>\n",
       "      <td>0</td>\n",
       "    </tr>\n",
       "    <tr>\n",
       "      <th>gmi.com</th>\n",
       "      <td>1</td>\n",
       "      <td>1</td>\n",
       "      <td>1</td>\n",
       "      <td>1</td>\n",
       "    </tr>\n",
       "    <tr>\n",
       "      <th>guyroofing.com</th>\n",
       "      <td>1</td>\n",
       "      <td>1</td>\n",
       "      <td>1</td>\n",
       "      <td>1</td>\n",
       "    </tr>\n",
       "    <tr>\n",
       "      <th>highlands.k12.fl.us</th>\n",
       "      <td>1</td>\n",
       "      <td>2</td>\n",
       "      <td>1</td>\n",
       "      <td>2</td>\n",
       "    </tr>\n",
       "    <tr>\n",
       "      <th>icloud.com</th>\n",
       "      <td>2</td>\n",
       "      <td>2</td>\n",
       "      <td>2</td>\n",
       "      <td>0</td>\n",
       "    </tr>\n",
       "    <tr>\n",
       "      <th>intevaproducts.com</th>\n",
       "      <td>1</td>\n",
       "      <td>1</td>\n",
       "      <td>1</td>\n",
       "      <td>1</td>\n",
       "    </tr>\n",
       "    <tr>\n",
       "      <th>leonschools.net</th>\n",
       "      <td>2</td>\n",
       "      <td>4</td>\n",
       "      <td>1</td>\n",
       "      <td>4</td>\n",
       "    </tr>\n",
       "    <tr>\n",
       "      <th>nafi.com</th>\n",
       "      <td>3</td>\n",
       "      <td>3</td>\n",
       "      <td>1</td>\n",
       "      <td>3</td>\n",
       "    </tr>\n",
       "    <tr>\n",
       "      <th>protonmail.com</th>\n",
       "      <td>1</td>\n",
       "      <td>1</td>\n",
       "      <td>1</td>\n",
       "      <td>0</td>\n",
       "    </tr>\n",
       "    <tr>\n",
       "      <th>rrsi.org</th>\n",
       "      <td>5</td>\n",
       "      <td>8</td>\n",
       "      <td>1</td>\n",
       "      <td>8</td>\n",
       "    </tr>\n",
       "    <tr>\n",
       "      <th>ship.edu</th>\n",
       "      <td>2</td>\n",
       "      <td>2</td>\n",
       "      <td>1</td>\n",
       "      <td>2</td>\n",
       "    </tr>\n",
       "    <tr>\n",
       "      <th>signatureconc.com</th>\n",
       "      <td>2</td>\n",
       "      <td>4</td>\n",
       "      <td>1</td>\n",
       "      <td>4</td>\n",
       "    </tr>\n",
       "    <tr>\n",
       "      <th>sompaving.com</th>\n",
       "      <td>4</td>\n",
       "      <td>4</td>\n",
       "      <td>1</td>\n",
       "      <td>4</td>\n",
       "    </tr>\n",
       "    <tr>\n",
       "      <th>students.rowan.edu</th>\n",
       "      <td>10</td>\n",
       "      <td>20</td>\n",
       "      <td>2</td>\n",
       "      <td>0</td>\n",
       "    </tr>\n",
       "    <tr>\n",
       "      <th>wisc.edu</th>\n",
       "      <td>3</td>\n",
       "      <td>5</td>\n",
       "      <td>1</td>\n",
       "      <td>0</td>\n",
       "    </tr>\n",
       "    <tr>\n",
       "      <th>yahoo.com</th>\n",
       "      <td>69</td>\n",
       "      <td>78</td>\n",
       "      <td>67</td>\n",
       "      <td>0</td>\n",
       "    </tr>\n",
       "    <tr>\n",
       "      <th>yahoo.es</th>\n",
       "      <td>1</td>\n",
       "      <td>1</td>\n",
       "      <td>1</td>\n",
       "      <td>0</td>\n",
       "    </tr>\n",
       "    <tr>\n",
       "      <th>yahoo.fr</th>\n",
       "      <td>1</td>\n",
       "      <td>1</td>\n",
       "      <td>1</td>\n",
       "      <td>0</td>\n",
       "    </tr>\n",
       "    <tr>\n",
       "      <th>ymail.com</th>\n",
       "      <td>3</td>\n",
       "      <td>3</td>\n",
       "      <td>3</td>\n",
       "      <td>0</td>\n",
       "    </tr>\n",
       "    <tr>\n",
       "      <th rowspan=\"3\" valign=\"top\">2020-11-30</th>\n",
       "      <th>aol.com</th>\n",
       "      <td>26</td>\n",
       "      <td>32</td>\n",
       "      <td>26</td>\n",
       "      <td>0</td>\n",
       "    </tr>\n",
       "    <tr>\n",
       "      <th>cjuhsd.net</th>\n",
       "      <td>7</td>\n",
       "      <td>12</td>\n",
       "      <td>1</td>\n",
       "      <td>12</td>\n",
       "    </tr>\n",
       "    <tr>\n",
       "      <th>ckcins.com</th>\n",
       "      <td>4</td>\n",
       "      <td>6</td>\n",
       "      <td>1</td>\n",
       "      <td>6</td>\n",
       "    </tr>\n",
       "  </tbody>\n",
       "</table>\n",
       "</div>"
      ],
      "text/plain": [
       "                                 ip_unique  emai_count  emai_unique  \\\n",
       "event_date domens                                                     \n",
       "2020-11-29 aol.com                       9          11            8   \n",
       "           charter.com                   9          21            2   \n",
       "           cjuhsd.net                    1           1            1   \n",
       "           comcast.net                   6          17            6   \n",
       "           contractor.net                1           2            1   \n",
       "           csu.edu                       3           6            2   \n",
       "           email.uscupstate.edu          6           8            1   \n",
       "           gmi.com                       1           1            1   \n",
       "           guyroofing.com                1           1            1   \n",
       "           highlands.k12.fl.us           1           2            1   \n",
       "           icloud.com                    2           2            2   \n",
       "           intevaproducts.com            1           1            1   \n",
       "           leonschools.net               2           4            1   \n",
       "           nafi.com                      3           3            1   \n",
       "           protonmail.com                1           1            1   \n",
       "           rrsi.org                      5           8            1   \n",
       "           ship.edu                      2           2            1   \n",
       "           signatureconc.com             2           4            1   \n",
       "           sompaving.com                 4           4            1   \n",
       "           students.rowan.edu           10          20            2   \n",
       "           wisc.edu                      3           5            1   \n",
       "           yahoo.com                    69          78           67   \n",
       "           yahoo.es                      1           1            1   \n",
       "           yahoo.fr                      1           1            1   \n",
       "           ymail.com                     3           3            3   \n",
       "2020-11-30 aol.com                      26          32           26   \n",
       "           cjuhsd.net                    7          12            1   \n",
       "           ckcins.com                    4           6            1   \n",
       "\n",
       "                                 ip_group_count  \n",
       "event_date domens                                \n",
       "2020-11-29 aol.com                            0  \n",
       "           charter.com                        0  \n",
       "           cjuhsd.net                         1  \n",
       "           comcast.net                        0  \n",
       "           contractor.net                     0  \n",
       "           csu.edu                            6  \n",
       "           email.uscupstate.edu               0  \n",
       "           gmi.com                            1  \n",
       "           guyroofing.com                     1  \n",
       "           highlands.k12.fl.us                2  \n",
       "           icloud.com                         0  \n",
       "           intevaproducts.com                 1  \n",
       "           leonschools.net                    4  \n",
       "           nafi.com                           3  \n",
       "           protonmail.com                     0  \n",
       "           rrsi.org                           8  \n",
       "           ship.edu                           2  \n",
       "           signatureconc.com                  4  \n",
       "           sompaving.com                      4  \n",
       "           students.rowan.edu                 0  \n",
       "           wisc.edu                           0  \n",
       "           yahoo.com                          0  \n",
       "           yahoo.es                           0  \n",
       "           yahoo.fr                           0  \n",
       "           ymail.com                          0  \n",
       "2020-11-30 aol.com                            0  \n",
       "           cjuhsd.net                        12  \n",
       "           ckcins.com                         6  "
      ]
     },
     "execution_count": 15,
     "metadata": {},
     "output_type": "execute_result"
    }
   ],
   "source": [
    "df.groupby([df.timestamp.dt.round('D'),df['domens']] ,as_index=True).agg(\n",
    "                                                                        ip_unique=pd.NamedAgg(column='ip', aggfunc='nunique'),\n",
    "                                                                        emai_count=pd.NamedAgg(column='email', aggfunc='count'),\n",
    "                                                                        emai_unique=pd.NamedAgg(column='email', aggfunc='nunique'),\n",
    "                                                                        ip_group_count=pd.NamedAgg(column='209.222.82_group', aggfunc='count')\n",
    "                                                            ).head(28)"
   ]
  },
  {
   "cell_type": "markdown",
   "metadata": {},
   "source": [
    "Можно заметить что колличество переходов из почтовых некоторых доменов и ip адресов 209.222.82.***  совпадают это выглядит подозрительным\n",
    "\n",
    "Так же много переходов где колличество переходов из уникальных почт меньше чем количество уникальных ip адресов что тоже довольно подозрительно  \n"
   ]
  },
  {
   "cell_type": "code",
   "execution_count": null,
   "metadata": {},
   "outputs": [],
   "source": []
  },
  {
   "cell_type": "code",
   "execution_count": null,
   "metadata": {},
   "outputs": [],
   "source": []
  },
  {
   "cell_type": "markdown",
   "metadata": {},
   "source": [
    "#### 9. Подумайте, чем можно обогатить этот набор данных,чтобы более качественно провести анализ переходов.\n",
    "Дополнительно можно самостоятельно дополнить этот набор данных."
   ]
  },
  {
   "cell_type": "markdown",
   "metadata": {},
   "source": [
    "Набор данных нужно дополнить данными:\n",
    "\n",
    "1. Целевым сайтом, сгруппировав данные по целевому сайту можно будет увидеть похожие ip адреса и адреса почт, при подозрении на то что это письмо было открыто ботом, можно будет создать признак в котором будет ставиться значение 0 если не было подозрительной активности и 1 если была замечена подозрительная активность.\n",
    "\n",
    "2. Если компания закупает почтовый трафик то, необходимо создать признак в котором указывался бы продавец трафика. В случае если компания будет заказывать несколько рассылок можно будет оценить, эффективность рассылок от разных продавцов.\n",
    "\n",
    "3. Добавить признак где будет считаться количество использований ip адреса, этот признак так же поможет отследить ботов.\n",
    "\n",
    "4. Так же можно будет добавить признак геолокации где будет указана страна и предположительный город владельца ip адреса. Так можно будет понять географию пользователей и дополнить информацию о ботах. Пример: целевой сайт для рассылки региональный фитнес центр, а большая часть трафика идет например из Великобритании можно сделать вывод о том что рассылка была не эффективна"
   ]
  }
 ],
 "metadata": {
  "kernelspec": {
   "display_name": "Python 3",
   "language": "python",
   "name": "python3"
  },
  "language_info": {
   "codemirror_mode": {
    "name": "ipython",
    "version": 3
   },
   "file_extension": ".py",
   "mimetype": "text/x-python",
   "name": "python",
   "nbconvert_exporter": "python",
   "pygments_lexer": "ipython3",
   "version": "3.8.6"
  }
 },
 "nbformat": 4,
 "nbformat_minor": 4
}
